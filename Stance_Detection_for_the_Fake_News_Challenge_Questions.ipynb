{
 "cells": [
  {
   "cell_type": "markdown",
   "metadata": {
    "colab_type": "text",
    "id": "QI9jhXKPCFcJ"
   },
   "source": [
    "# Stance Detection for the Fake News Challenge\n",
    "\n",
    "## Identifying Textual Relationships with Deep Neural Nets\n",
    "\n",
    "### Check the problem context [here](https://drive.google.com/open?id=1KfWaZyQdGBw8AUTacJ2yY86Yxgw2Xwq0).\n",
    "\n",
    "### Download files required for the project from [here](https://drive.google.com/open?id=10yf39ifEwVihw4xeJJR60oeFBY30Y5J8)."
   ]
  },
  {
   "cell_type": "markdown",
   "metadata": {
    "colab_type": "text",
    "id": "vSNgdEMpenpE"
   },
   "source": [
    "## Step1: Load the given dataset  \n",
    "\n",
    "1. Mount the google drive\n",
    "\n",
    "2. Import Glove embeddings\n",
    "\n",
    "3. Import the test and train datasets"
   ]
  },
  {
   "cell_type": "markdown",
   "metadata": {
    "colab_type": "text",
    "id": "aPOZRohMiSpQ"
   },
   "source": [
    "### Mount the google drive to access required project files\n",
    "\n",
    "Run the below commands"
   ]
  },
  {
   "cell_type": "code",
   "execution_count": 5,
   "metadata": {
    "colab": {},
    "colab_type": "code",
    "id": "7AS39z1XgFpT"
   },
   "outputs": [],
   "source": [
    "#from google.colab import drive"
   ]
  },
  {
   "cell_type": "code",
   "execution_count": 6,
   "metadata": {
    "colab": {
     "base_uri": "https://localhost:8080/",
     "height": 122
    },
    "colab_type": "code",
    "executionInfo": {
     "elapsed": 46168,
     "status": "ok",
     "timestamp": 1575549317774,
     "user": {
      "displayName": "Swetha G",
      "photoUrl": "https://lh3.googleusercontent.com/a-/AAuE7mBSOmXC9wxQRIbm4EyDIb4pKBa1_LiM40tURwHwlg=s64",
      "userId": "07021437028917822691"
     },
     "user_tz": -330
    },
    "id": "S_7yCFdzgFsH",
    "outputId": "cd5de196-d4aa-4e4e-82b2-182cdbcbe365"
   },
   "outputs": [],
   "source": [
    "#drive.mount('/content/drive/')"
   ]
  },
  {
   "cell_type": "markdown",
   "metadata": {
    "colab_type": "text",
    "id": "bhZdJ4zpwWzN"
   },
   "source": [
    "#### Path for Project files on google drive\n",
    "\n",
    "**Note:** You need to change this path according where you have kept the files in google drive. "
   ]
  },
  {
   "cell_type": "code",
   "execution_count": 7,
   "metadata": {
    "colab": {},
    "colab_type": "code",
    "id": "Aol97RUogFuS"
   },
   "outputs": [],
   "source": [
    "#project_path = \"/content/drive/My Drive/Colab Notebooks/NLP_LSTM/\""
   ]
  },
  {
   "cell_type": "markdown",
   "metadata": {
    "colab_type": "text",
    "id": "2ly0VxAnwJ2f"
   },
   "source": [
    "### Loading the Glove Embeddings"
   ]
  },
  {
   "cell_type": "code",
   "execution_count": 8,
   "metadata": {
    "colab": {},
    "colab_type": "code",
    "id": "xmsPn6PF-cgL"
   },
   "outputs": [],
   "source": [
    "from zipfile import ZipFile\n",
    "with ZipFile('glove.6B.zip', 'r') as z:\n",
    "  z.extractall()"
   ]
  },
  {
   "cell_type": "markdown",
   "metadata": {
    "colab_type": "text",
    "id": "TjLJEQ_PwcGi"
   },
   "source": [
    "# Load the dataset [5 Marks]\n",
    "\n",
    "1. Using [read_csv()](https://pandas.pydata.org/pandas-docs/stable/generated/pandas.read_csv.html) in pandas load the given train datasets files **`train_bodies.csv`** and **`train_stances.csv`**\n",
    "\n",
    "2. Using [merge](https://pandas.pydata.org/pandas-docs/stable/generated/pandas.DataFrame.merge.html) command in pandas merge the two datasets based on the Body ID. \n",
    "\n",
    "Note: Save the final merged dataset in a dataframe with name **`dataset`**."
   ]
  },
  {
   "cell_type": "code",
   "execution_count": 9,
   "metadata": {
    "colab": {},
    "colab_type": "code",
    "id": "7gXO1WZ-gFwm"
   },
   "outputs": [],
   "source": [
    "import pandas as pd\n",
    "\n",
    "train_bodies = pd.read_csv('train_bodies.csv')\n",
    "train_stances = pd.read_csv('train_stances.csv')"
   ]
  },
  {
   "cell_type": "code",
   "execution_count": 10,
   "metadata": {
    "colab": {},
    "colab_type": "code",
    "id": "kosAWskdOOT8"
   },
   "outputs": [],
   "source": [
    "dataset = pd.merge(train_bodies[['Body ID','articleBody']],train_stances [['Body ID','Headline','Stance']],left_on = 'Body ID', right_on = 'Body ID', how = 'inner')"
   ]
  },
  {
   "cell_type": "markdown",
   "metadata": {
    "colab_type": "text",
    "id": "g4ycQbBCg20S"
   },
   "source": [
    "\n",
    "<h2> Check1:</h2>\n",
    "  \n",
    "<h3> You should see the below output if you run `dataset.head()` command as given below </h3>"
   ]
  },
  {
   "cell_type": "code",
   "execution_count": 11,
   "metadata": {
    "colab": {
     "base_uri": "https://localhost:8080/",
     "height": 204
    },
    "colab_type": "code",
    "executionInfo": {
     "elapsed": 1818,
     "status": "ok",
     "timestamp": 1575549433578,
     "user": {
      "displayName": "Swetha G",
      "photoUrl": "https://lh3.googleusercontent.com/a-/AAuE7mBSOmXC9wxQRIbm4EyDIb4pKBa1_LiM40tURwHwlg=s64",
      "userId": "07021437028917822691"
     },
     "user_tz": -330
    },
    "id": "IUtF7iOmj11k",
    "outputId": "d68ada85-21c6-4de4-f5f6-e536022ba45b"
   },
   "outputs": [
    {
     "data": {
      "text/html": [
       "<div>\n",
       "<style scoped>\n",
       "    .dataframe tbody tr th:only-of-type {\n",
       "        vertical-align: middle;\n",
       "    }\n",
       "\n",
       "    .dataframe tbody tr th {\n",
       "        vertical-align: top;\n",
       "    }\n",
       "\n",
       "    .dataframe thead th {\n",
       "        text-align: right;\n",
       "    }\n",
       "</style>\n",
       "<table border=\"1\" class=\"dataframe\">\n",
       "  <thead>\n",
       "    <tr style=\"text-align: right;\">\n",
       "      <th></th>\n",
       "      <th>Body ID</th>\n",
       "      <th>articleBody</th>\n",
       "      <th>Headline</th>\n",
       "      <th>Stance</th>\n",
       "    </tr>\n",
       "  </thead>\n",
       "  <tbody>\n",
       "    <tr>\n",
       "      <td>0</td>\n",
       "      <td>0</td>\n",
       "      <td>A small meteorite crashed into a wooded area i...</td>\n",
       "      <td>Soldier shot, Parliament locked down after gun...</td>\n",
       "      <td>unrelated</td>\n",
       "    </tr>\n",
       "    <tr>\n",
       "      <td>1</td>\n",
       "      <td>0</td>\n",
       "      <td>A small meteorite crashed into a wooded area i...</td>\n",
       "      <td>Tourist dubbed ‘Spider Man’ after spider burro...</td>\n",
       "      <td>unrelated</td>\n",
       "    </tr>\n",
       "    <tr>\n",
       "      <td>2</td>\n",
       "      <td>0</td>\n",
       "      <td>A small meteorite crashed into a wooded area i...</td>\n",
       "      <td>Luke Somers 'killed in failed rescue attempt i...</td>\n",
       "      <td>unrelated</td>\n",
       "    </tr>\n",
       "    <tr>\n",
       "      <td>3</td>\n",
       "      <td>0</td>\n",
       "      <td>A small meteorite crashed into a wooded area i...</td>\n",
       "      <td>BREAKING: Soldier shot at War Memorial in Ottawa</td>\n",
       "      <td>unrelated</td>\n",
       "    </tr>\n",
       "    <tr>\n",
       "      <td>4</td>\n",
       "      <td>0</td>\n",
       "      <td>A small meteorite crashed into a wooded area i...</td>\n",
       "      <td>Giant 8ft 9in catfish weighing 19 stone caught...</td>\n",
       "      <td>unrelated</td>\n",
       "    </tr>\n",
       "  </tbody>\n",
       "</table>\n",
       "</div>"
      ],
      "text/plain": [
       "   Body ID                                        articleBody  \\\n",
       "0        0  A small meteorite crashed into a wooded area i...   \n",
       "1        0  A small meteorite crashed into a wooded area i...   \n",
       "2        0  A small meteorite crashed into a wooded area i...   \n",
       "3        0  A small meteorite crashed into a wooded area i...   \n",
       "4        0  A small meteorite crashed into a wooded area i...   \n",
       "\n",
       "                                            Headline     Stance  \n",
       "0  Soldier shot, Parliament locked down after gun...  unrelated  \n",
       "1  Tourist dubbed ‘Spider Man’ after spider burro...  unrelated  \n",
       "2  Luke Somers 'killed in failed rescue attempt i...  unrelated  \n",
       "3   BREAKING: Soldier shot at War Memorial in Ottawa  unrelated  \n",
       "4  Giant 8ft 9in catfish weighing 19 stone caught...  unrelated  "
      ]
     },
     "execution_count": 11,
     "metadata": {},
     "output_type": "execute_result"
    }
   ],
   "source": [
    "dataset.head()"
   ]
  },
  {
   "cell_type": "markdown",
   "metadata": {
    "colab_type": "text",
    "id": "tjzVz2ifijmj"
   },
   "source": [
    "## Step2: Data Pre-processing and setting some hyper parameters needed for model\n",
    "\n",
    "\n",
    "#### Run the code given below to set the required parameters.\n",
    "\n",
    "1. `MAX_SENTS` = Maximum no.of sentences to consider in an article.\n",
    "\n",
    "2. `MAX_SENT_LENGTH` = Maximum no.of words to consider in a sentence.\n",
    "\n",
    "3. `MAX_NB_WORDS` = Maximum no.of words in the total vocabualry.\n",
    "\n",
    "4. `MAX_SENTS_HEADING` = Maximum no.of sentences to consider in a heading of an article."
   ]
  },
  {
   "cell_type": "code",
   "execution_count": 12,
   "metadata": {
    "colab": {},
    "colab_type": "code",
    "id": "KDXSdpvqjuqw"
   },
   "outputs": [],
   "source": [
    "MAX_NB_WORDS = 20000\n",
    "MAX_SENTS = 20\n",
    "MAX_SENTS_HEADING = 1\n",
    "MAX_SENT_LENGTH = 20\n",
    "VALIDATION_SPLIT = 0.2"
   ]
  },
  {
   "cell_type": "markdown",
   "metadata": {
    "colab_type": "text",
    "id": "zwE7CPHdiDT-"
   },
   "source": [
    "### Download the `Punkt` from nltk using the commands given below. This is for sentence tokenization.\n",
    "\n",
    "For more info on how to use it, read [this](https://stackoverflow.com/questions/35275001/use-of-punktsentencetokenizer-in-nltk).\n",
    "\n"
   ]
  },
  {
   "cell_type": "code",
   "execution_count": 13,
   "metadata": {
    "colab": {
     "base_uri": "https://localhost:8080/",
     "height": 68
    },
    "colab_type": "code",
    "executionInfo": {
     "elapsed": 29184,
     "status": "ok",
     "timestamp": 1575549472819,
     "user": {
      "displayName": "Swetha G",
      "photoUrl": "https://lh3.googleusercontent.com/a-/AAuE7mBSOmXC9wxQRIbm4EyDIb4pKBa1_LiM40tURwHwlg=s64",
      "userId": "07021437028917822691"
     },
     "user_tz": -330
    },
    "id": "lsiKmyJUZ-hU",
    "outputId": "06dcd0c9-46a2-4be2-e733-3d97de6fe7c4"
   },
   "outputs": [
    {
     "name": "stderr",
     "output_type": "stream",
     "text": [
      "[nltk_data] Downloading package punkt to\n",
      "[nltk_data]     C:\\Users\\20012\\AppData\\Roaming\\nltk_data...\n",
      "[nltk_data]   Package punkt is already up-to-date!\n"
     ]
    },
    {
     "data": {
      "text/plain": [
       "True"
      ]
     },
     "execution_count": 13,
     "metadata": {},
     "output_type": "execute_result"
    }
   ],
   "source": [
    "import nltk\n",
    "nltk.download('punkt')"
   ]
  },
  {
   "cell_type": "markdown",
   "metadata": {
    "colab_type": "text",
    "id": "Gqwm_GbwwnhX"
   },
   "source": [
    "# Tokenizing the text and loading the pre-trained Glove word embeddings for each token  [5 marks] "
   ]
  },
  {
   "cell_type": "markdown",
   "metadata": {
    "colab_type": "text",
    "id": "WfZLR24mm32k"
   },
   "source": [
    "Keras provides [Tokenizer API](https://keras.io/preprocessing/text/) for preparing text. Read it before going any further."
   ]
  },
  {
   "cell_type": "markdown",
   "metadata": {
    "colab_type": "text",
    "id": "fLSn9S-5oG4Z"
   },
   "source": [
    "#### Import the Tokenizer from keras preprocessing text"
   ]
  },
  {
   "cell_type": "code",
   "execution_count": 14,
   "metadata": {
    "colab": {
     "base_uri": "https://localhost:8080/",
     "height": 80
    },
    "colab_type": "code",
    "executionInfo": {
     "elapsed": 2977,
     "status": "ok",
     "timestamp": 1575549483487,
     "user": {
      "displayName": "Swetha G",
      "photoUrl": "https://lh3.googleusercontent.com/a-/AAuE7mBSOmXC9wxQRIbm4EyDIb4pKBa1_LiM40tURwHwlg=s64",
      "userId": "07021437028917822691"
     },
     "user_tz": -330
    },
    "id": "S-VUgh2yoMlR",
    "outputId": "2fb3a316-b466-4706-c222-77e346c39db3"
   },
   "outputs": [
    {
     "name": "stderr",
     "output_type": "stream",
     "text": [
      "Using TensorFlow backend.\n"
     ]
    }
   ],
   "source": [
    "from keras.preprocessing.text import Tokenizer "
   ]
  },
  {
   "cell_type": "markdown",
   "metadata": {
    "colab_type": "text",
    "id": "eml0Lge4oOuh"
   },
   "source": [
    "#### Initialize the Tokenizer class with maximum vocabulary count as `MAX_NB_WORDS` initialized at the start of step2. "
   ]
  },
  {
   "cell_type": "code",
   "execution_count": 15,
   "metadata": {
    "colab": {},
    "colab_type": "code",
    "id": "Qm85qirPofc2"
   },
   "outputs": [],
   "source": [
    "t= Tokenizer(num_words = MAX_NB_WORDS,filters = '!\"#$%&()*+,-./:;<=>?@[\\]^_`{|}\\n\"~')"
   ]
  },
  {
   "cell_type": "markdown",
   "metadata": {
    "colab_type": "text",
    "id": "HBe1KuXDosJ7"
   },
   "source": [
    "#### Now, using fit_on_texts() from Tokenizer class, lets encode the data \n",
    "\n",
    "Note: We need to fit articleBody and Headline also to cover all the words."
   ]
  },
  {
   "cell_type": "code",
   "execution_count": 16,
   "metadata": {
    "colab": {},
    "colab_type": "code",
    "id": "Q5rk-UyBlmyA"
   },
   "outputs": [],
   "source": [
    "t.fit_on_texts(dataset['articleBody'])\n",
    "t.fit_on_texts(dataset['Headline'])"
   ]
  },
  {
   "cell_type": "markdown",
   "metadata": {
    "colab_type": "text",
    "id": "omptHX-JpBsN"
   },
   "source": [
    "#### fit_on_texts() gives the following attributes in the output as given [here](https://faroit.github.io/keras-docs/1.2.2/preprocessing/text/).\n",
    "\n",
    "* **word_counts:** dictionary mapping words (str) to the number of times they appeared on during fit. Only set after fit_on_texts was called.\n",
    "\n",
    "* **word_docs:** dictionary mapping words (str) to the number of documents/texts they appeared on during fit. Only set after fit_on_texts was called.\n",
    "\n",
    "* **word_index:** dictionary mapping words (str) to their rank/index (int). Only set after fit_on_texts was called.\n",
    "\n",
    "* **document_count:** int. Number of documents (texts/sequences) the tokenizer was trained on. Only set after fit_on_texts or fit_on_sequences was called.\n",
    "\n"
   ]
  },
  {
   "cell_type": "code",
   "execution_count": 17,
   "metadata": {
    "colab": {
     "base_uri": "https://localhost:8080/",
     "height": 34
    },
    "colab_type": "code",
    "executionInfo": {
     "elapsed": 1825,
     "status": "ok",
     "timestamp": 1575549521175,
     "user": {
      "displayName": "Swetha G",
      "photoUrl": "https://lh3.googleusercontent.com/a-/AAuE7mBSOmXC9wxQRIbm4EyDIb4pKBa1_LiM40tURwHwlg=s64",
      "userId": "07021437028917822691"
     },
     "user_tz": -330
    },
    "id": "8rYfKsa8_htl",
    "outputId": "2fbd87c3-4c1b-47d3-c66a-7c1873877732"
   },
   "outputs": [
    {
     "name": "stdout",
     "output_type": "stream",
     "text": [
      "27879\n"
     ]
    }
   ],
   "source": [
    "vocab_size = len(t.word_index)+1\n",
    "print(vocab_size)"
   ]
  },
  {
   "cell_type": "markdown",
   "metadata": {
    "colab_type": "text",
    "id": "SHnsT2sTtFAA"
   },
   "source": [
    "### Now, tokenize the sentences using nltk sent_tokenize() and encode the senteces with the ids we got form the above `t.word_index`\n",
    "\n",
    "Initialise 2 lists with names `texts` and `articles`.\n",
    "\n",
    "```\n",
    "texts = [] to store text of article as it is.\n",
    "\n",
    "articles = [] split the above text into a list of sentences.\n",
    "```"
   ]
  },
  {
   "cell_type": "code",
   "execution_count": 18,
   "metadata": {
    "colab": {},
    "colab_type": "code",
    "id": "ctEu-d4c4EZs"
   },
   "outputs": [],
   "source": [
    "from nltk import tokenize\n",
    "\n",
    "texts = []\n",
    "articles = []\n",
    "\n",
    "for idx in range ( dataset [ 'articleBody'].shape[0]):\n",
    "  text = dataset['articleBody'][idx]\n",
    "  texts.append(text)\n",
    "  sentences = tokenize.sent_tokenize(text)\n",
    "  articles.append(sentences)"
   ]
  },
  {
   "cell_type": "markdown",
   "metadata": {
    "colab_type": "text",
    "id": "koTVJjoO6P78"
   },
   "source": [
    "## Check 2:\n",
    "\n",
    "first element of texts and articles should be as given below. "
   ]
  },
  {
   "cell_type": "code",
   "execution_count": 19,
   "metadata": {
    "colab": {
     "base_uri": "https://localhost:8080/",
     "height": 54
    },
    "colab_type": "code",
    "executionInfo": {
     "elapsed": 1233,
     "status": "ok",
     "timestamp": 1575549561211,
     "user": {
      "displayName": "Swetha G",
      "photoUrl": "https://lh3.googleusercontent.com/a-/AAuE7mBSOmXC9wxQRIbm4EyDIb4pKBa1_LiM40tURwHwlg=s64",
      "userId": "07021437028917822691"
     },
     "user_tz": -330
    },
    "id": "3mWBW99p5UW9",
    "outputId": "960993e8-bc82-4738-d4ee-318a7441ef88"
   },
   "outputs": [
    {
     "data": {
      "text/plain": [
       "'A small meteorite crashed into a wooded area in Nicaragua\\'s capital of Managua overnight, the government said Sunday. Residents reported hearing a mysterious boom that left a 16-foot deep crater near the city\\'s airport, the Associated Press reports. \\n\\nGovernment spokeswoman Rosario Murillo said a committee formed by the government to study the event determined it was a \"relatively small\" meteorite that \"appears to have come off an asteroid that was passing close to Earth.\" House-sized asteroid 2014 RC, which measured 60 feet in diameter, skimmed the Earth this weekend, ABC News reports. \\nMurillo said Nicaragua will ask international experts to help local scientists in understanding what happened.\\n\\nThe crater left by the meteorite had a radius of 39 feet and a depth of 16 feet,  said Humberto Saballos, a volcanologist with the Nicaraguan Institute of Territorial Studies who was on the committee. He said it is still not clear if the meteorite disintegrated or was buried.\\n\\nHumberto Garcia, of the Astronomy Center at the National Autonomous University of Nicaragua, said the meteorite could be related to an asteroid that was forecast to pass by the planet Saturday night.\\n\\n\"We have to study it more because it could be ice or rock,\" he said.\\n\\nWilfried Strauch, an adviser to the Institute of Territorial Studies, said it was \"very strange that no one reported a streak of light. We have to ask if anyone has a photo or something.\"\\n\\nLocal residents reported hearing a loud boom Saturday night, but said they didn\\'t see anything strange in the sky.\\n\\n\"I was sitting on my porch and I saw nothing, then all of a sudden I heard a large blast. We thought it was a bomb because we felt an expansive wave,\" Jorge Santamaria told The Associated Press.\\n\\nThe site of the crater is near Managua\\'s international airport and an air force base. Only journalists from state media were allowed to visit it.'"
      ]
     },
     "execution_count": 19,
     "metadata": {},
     "output_type": "execute_result"
    }
   ],
   "source": [
    "texts[0]"
   ]
  },
  {
   "cell_type": "code",
   "execution_count": 20,
   "metadata": {
    "colab": {
     "base_uri": "https://localhost:8080/",
     "height": 309
    },
    "colab_type": "code",
    "executionInfo": {
     "elapsed": 1248,
     "status": "ok",
     "timestamp": 1575549563661,
     "user": {
      "displayName": "Swetha G",
      "photoUrl": "https://lh3.googleusercontent.com/a-/AAuE7mBSOmXC9wxQRIbm4EyDIb4pKBa1_LiM40tURwHwlg=s64",
      "userId": "07021437028917822691"
     },
     "user_tz": -330
    },
    "id": "WtIjO3ht5EKA",
    "outputId": "324b7beb-37f1-4dc0-9b9d-a9a734ae2a24"
   },
   "outputs": [
    {
     "data": {
      "text/plain": [
       "[\"A small meteorite crashed into a wooded area in Nicaragua's capital of Managua overnight, the government said Sunday.\",\n",
       " \"Residents reported hearing a mysterious boom that left a 16-foot deep crater near the city's airport, the Associated Press reports.\",\n",
       " 'Government spokeswoman Rosario Murillo said a committee formed by the government to study the event determined it was a \"relatively small\" meteorite that \"appears to have come off an asteroid that was passing close to Earth.\"',\n",
       " 'House-sized asteroid 2014 RC, which measured 60 feet in diameter, skimmed the Earth this weekend, ABC News reports.',\n",
       " 'Murillo said Nicaragua will ask international experts to help local scientists in understanding what happened.',\n",
       " 'The crater left by the meteorite had a radius of 39 feet and a depth of 16 feet,  said Humberto Saballos, a volcanologist with the Nicaraguan Institute of Territorial Studies who was on the committee.',\n",
       " 'He said it is still not clear if the meteorite disintegrated or was buried.',\n",
       " 'Humberto Garcia, of the Astronomy Center at the National Autonomous University of Nicaragua, said the meteorite could be related to an asteroid that was forecast to pass by the planet Saturday night.',\n",
       " '\"We have to study it more because it could be ice or rock,\" he said.',\n",
       " 'Wilfried Strauch, an adviser to the Institute of Territorial Studies, said it was \"very strange that no one reported a streak of light.',\n",
       " 'We have to ask if anyone has a photo or something.\"',\n",
       " \"Local residents reported hearing a loud boom Saturday night, but said they didn't see anything strange in the sky.\",\n",
       " '\"I was sitting on my porch and I saw nothing, then all of a sudden I heard a large blast.',\n",
       " 'We thought it was a bomb because we felt an expansive wave,\" Jorge Santamaria told The Associated Press.',\n",
       " \"The site of the crater is near Managua's international airport and an air force base.\",\n",
       " 'Only journalists from state media were allowed to visit it.']"
      ]
     },
     "execution_count": 20,
     "metadata": {},
     "output_type": "execute_result"
    }
   ],
   "source": [
    "articles[0]"
   ]
  },
  {
   "cell_type": "markdown",
   "metadata": {
    "colab_type": "text",
    "id": "fpuRIA7cCfcY"
   },
   "source": [
    "# Now iterate through each article and each sentence to encode the words into ids using t.word_index  [5 marks] \n",
    "\n",
    "Here, to get words from sentence you can use `text_to_word_sequence` from keras preprocessing text.\n",
    "\n",
    "1. Import text_to_word_sequence\n",
    "\n",
    "2. Initialize a variable of shape (no.of articles, MAX_SENTS, MAX_SENT_LENGTH) with name `data` with zeros first (you can use numpy [np.zeros](https://docs.scipy.org/doc/numpy/reference/generated/numpy.zeros.html) to initialize with all zeros)and then update it while iterating through the words and sentences in each article."
   ]
  },
  {
   "cell_type": "code",
   "execution_count": 21,
   "metadata": {
    "colab": {
     "base_uri": "https://localhost:8080/",
     "output_embedded_package_id": "1WoPAF2jEqlawIRiiR4wlSFUUs9Ww-MHQ"
    },
    "colab_type": "code",
    "id": "YVyClBULCqWj",
    "outputId": "bd9b5963-134c-4cf2-d9ac-22be010c06f2"
   },
   "outputs": [],
   "source": [
    "from keras.preprocessing.text import text_to_word_sequence\n",
    "import numpy as np\n",
    "\n",
    "data = np.zeros((len(texts),MAX_SENTS,MAX_SENT_LENGTH),dtype = 'int32')\n",
    "for i,sentences in enumerate(articles):\n",
    "    for j,sent in enumerate(sentences):\n",
    "        if j < MAX_SENTS:\n",
    "            wordTokens = text_to_word_sequence(sent)\n",
    "            k=0\n",
    "        for _,word in enumerate(wordTokens):\n",
    "            try:\n",
    "                if k < MAX_SENT_LENGTH and t.word_index[word] < MAX_NB_WORDS:\n",
    "                    data[i,j,k] = t.word_index[word]\n",
    "                    k=k+1\n",
    "            except:\n",
    "                #print(word)\n",
    "                pass\n",
    "        "
   ]
  },
  {
   "cell_type": "markdown",
   "metadata": {
    "colab_type": "text",
    "id": "bFdmiDYcE144"
   },
   "source": [
    "### Check 3:\n",
    "\n",
    "Accessing first element in data should give something like given below."
   ]
  },
  {
   "cell_type": "code",
   "execution_count": 22,
   "metadata": {
    "colab": {},
    "colab_type": "code",
    "id": "TsFWW5C2Djog"
   },
   "outputs": [
    {
     "data": {
      "text/plain": [
       "array([[    3,   481,   427,  7211,    81,     3,  3733,   331,     5,\n",
       "         3891,   350,     4,  1431,  2958,     1,    89,    12,   464,\n",
       "            0,     0],\n",
       "       [  758,    95,  1047,     3,  2679,  1752,     7,   189,     3,\n",
       "         1217,  1075,  2030,   700,   159,     1,  3032,   448,     1,\n",
       "          555,   235],\n",
       "       [   89,  1067,  4115,  2349,    12,     3,  1092,  3306,    19,\n",
       "            1,    89,     2,  1793,     1,   521,  2009,    15,     9,\n",
       "            3,  3111],\n",
       "       [  181,  3640,   972,   200,  2556,    44,  6775,  1722,  1252,\n",
       "            5, 13319, 17939,     1,   778,    31,   740,  3990,    67,\n",
       "           85,     0],\n",
       "       [ 2349,    12,  1557,    38,  1094,   351,   775,     2,   367,\n",
       "          260,  1770,     5,  4450,    70,   494,     0,     0,     0,\n",
       "            0,     0],\n",
       "       [    1,   700,   189,    19,     1,   427,    32,     3,  7417,\n",
       "            4,  2159,  1252,     6,     3,  5270,     4,  1217,  1252,\n",
       "           12,  3363],\n",
       "       [   13,    12,    15,     8,   149,    25,   543,    64,     1,\n",
       "          427,  3727,    41,     9,  1850,     0,     0,     0,     0,\n",
       "            0,     0],\n",
       "       [ 3363,  5733,     4,     1,  5875,   614,    21,     1,   311,\n",
       "         3438,   793,     4,  1557,    12,     1,   427,    69,    23,\n",
       "          821,     2],\n",
       "       [   37,    17,     2,  1793,    15,    52,   120,    15,    69,\n",
       "           23,  4921,    41,  1963,    13,    12,     0,     0,     0,\n",
       "            0,     0],\n",
       "       [ 4736,  3338,    24,  3969,     2,     1,  1316,     4,  3072,\n",
       "         1653,    12,    15,     9,   195,  1420,     7,    58,    40,\n",
       "           95,     3],\n",
       "       [   37,    17,     2,  1094,    64,   510,    20,     3,   250,\n",
       "           41,   264,     0,     0,     0,     0,     0,     0,     0,\n",
       "            0,     0],\n",
       "       [  260,   758,    95,  1047,     3,  1806,  1752,   531,   276,\n",
       "           29,    12,    33,   703,   163,   892,  1420,     5,     1,\n",
       "         2081,     0],\n",
       "       [   35,     9,  2057,    10,   116,  5825,     6,    35,   576,\n",
       "          656,   104,    59,     4,     3,  2410,    35,   241,     3,\n",
       "          512,  1911],\n",
       "       [   37,   341,    15,     9,     3,  2082,   120,    37,   880,\n",
       "           24,  4451,  2584,  4315,  4922,    55,     1,   555,   235,\n",
       "            0,     0],\n",
       "       [    1,   255,     4,     1,   700,     8,   159,  3961,   351,\n",
       "          448,     6,    24,   155,   465,  1929,     0,     0,     0,\n",
       "            0,     0],\n",
       "       [  126,   921,    22,    47,   100,    36,  1833,     2,  1212,\n",
       "           15,     0,     0,     0,     0,     0,     0,     0,     0,\n",
       "            0,     0],\n",
       "       [    0,     0,     0,     0,     0,     0,     0,     0,     0,\n",
       "            0,     0,     0,     0,     0,     0,     0,     0,     0,\n",
       "            0,     0],\n",
       "       [    0,     0,     0,     0,     0,     0,     0,     0,     0,\n",
       "            0,     0,     0,     0,     0,     0,     0,     0,     0,\n",
       "            0,     0],\n",
       "       [    0,     0,     0,     0,     0,     0,     0,     0,     0,\n",
       "            0,     0,     0,     0,     0,     0,     0,     0,     0,\n",
       "            0,     0],\n",
       "       [    0,     0,     0,     0,     0,     0,     0,     0,     0,\n",
       "            0,     0,     0,     0,     0,     0,     0,     0,     0,\n",
       "            0,     0]])"
      ]
     },
     "execution_count": 22,
     "metadata": {},
     "output_type": "execute_result"
    }
   ],
   "source": [
    "data[0, :, :]"
   ]
  },
  {
   "cell_type": "markdown",
   "metadata": {
    "colab_type": "text",
    "id": "hTG6JySHehkT"
   },
   "source": [
    "# Repeat the same process for the `Headings` as well. Use variables with names `texts_heading` and `articles_heading` accordingly. [5 marks] "
   ]
  },
  {
   "cell_type": "code",
   "execution_count": 23,
   "metadata": {
    "colab": {},
    "colab_type": "code",
    "id": "_CliiIhLemJV"
   },
   "outputs": [],
   "source": [
    "text_heading = []\n",
    "articles_heading = []\n",
    "\n",
    "for idx in range(dataset['Headline'].shape[0]):\n",
    "    text = dataset['Headline'][idx]\n",
    "    text_heading.append(text)\n",
    "    sentences = tokenize.sent_tokenize(text)\n",
    "    articles_heading.append(sentences)\n",
    "\n",
    "data_heading = np.zeros((len(texts),MAX_SENTS_HEADING,MAX_SENT_LENGTH),dtype= 'int32')\n",
    "\n",
    "for i,sentences in enumerate(articles_heading):\n",
    "    for j,sent in enumerate(sentences):\n",
    "        if j < MAX_SENTS_HEADING:\n",
    "            wordTokens = text_to_word_sequence(sent)\n",
    "            k = 0\n",
    "            for _,word in enumerate(wordTokens):\n",
    "                try:\n",
    "                    if k < MAX_SENT_LENGTH and t.word_index[word] < MAX_NB_WORDS:\n",
    "                        data_heading[ i , j , k] = t.word_index[word]\n",
    "                        k = k + 1\n",
    "                except :\n",
    "                    pass\n",
    "                    \n",
    "      "
   ]
  },
  {
   "cell_type": "markdown",
   "metadata": {
    "colab_type": "text",
    "id": "iaH0Ey1qe_Co"
   },
   "source": [
    "### Now the features are ready, lets make the labels ready for the model to process.\n",
    "\n",
    "### Convert labels into one-hot vectors\n",
    "\n",
    "You can use [get_dummies](https://pandas.pydata.org/pandas-docs/stable/generated/pandas.get_dummies.html) in pandas to create one-hot vectors."
   ]
  },
  {
   "cell_type": "code",
   "execution_count": 24,
   "metadata": {
    "colab": {},
    "colab_type": "code",
    "id": "Zq-VcgM8fat1"
   },
   "outputs": [],
   "source": [
    "labels = dataset['Stance']\n",
    "targets = pd.Series(labels)\n",
    "one_hot = pd.get_dummies(targets,sparse = True)\n",
    "one_hot_labels = np.asarray(one_hot)\n",
    "labels = one_hot_labels"
   ]
  },
  {
   "cell_type": "markdown",
   "metadata": {
    "colab_type": "text",
    "id": "40mA8FI2fcxZ"
   },
   "source": [
    "### Check 4:\n",
    "\n",
    "The shape of data and labels shoould match the given below numbers."
   ]
  },
  {
   "cell_type": "code",
   "execution_count": 25,
   "metadata": {
    "colab": {
     "base_uri": "https://localhost:8080/",
     "height": 51
    },
    "colab_type": "code",
    "id": "vpEWEnjFfnFR",
    "outputId": "312006c9-6dff-4704-978e-d08131b483c4"
   },
   "outputs": [
    {
     "name": "stdout",
     "output_type": "stream",
     "text": [
      "Shape of data tensor: (49972, 20, 20)\n",
      "Shape of label tensor: (49972, 4)\n"
     ]
    }
   ],
   "source": [
    "print('Shape of data tensor:', data.shape)\n",
    "print('Shape of label tensor:', labels.shape)"
   ]
  },
  {
   "cell_type": "markdown",
   "metadata": {
    "colab_type": "text",
    "id": "sDOxHdR3frDu"
   },
   "source": [
    "### Shuffle the data"
   ]
  },
  {
   "cell_type": "code",
   "execution_count": 26,
   "metadata": {
    "colab": {},
    "colab_type": "code",
    "id": "-Ra-yYTvfzRt"
   },
   "outputs": [],
   "source": [
    "## get numbers upto no.of articles\n",
    "indices = np.arange(data.shape[0])\n",
    "## shuffle the numbers\n",
    "np.random.shuffle(indices)"
   ]
  },
  {
   "cell_type": "code",
   "execution_count": 27,
   "metadata": {
    "colab": {},
    "colab_type": "code",
    "id": "LKnSqwIFf3Iy"
   },
   "outputs": [],
   "source": [
    "## shuffle the data\n",
    "data = data[indices]\n",
    "data_heading = data_heading[indices]\n",
    "## shuffle the labels according to data\n",
    "labels = labels[indices]"
   ]
  },
  {
   "cell_type": "markdown",
   "metadata": {
    "colab_type": "text",
    "id": "JcOFVfPBf9kA"
   },
   "source": [
    "### Split into train and validation sets. Split the train set 80:20 ratio to get the train and validation sets.\n",
    "\n",
    "\n",
    "Use the variable names as given below:\n",
    "\n",
    "x_train, x_val - for body of articles.\n",
    "\n",
    "x-heading_train, x_heading_val - for heading of articles.\n",
    "\n",
    "y_train - for training labels.\n",
    "\n",
    "y_val - for validation labels.\n",
    "\n"
   ]
  },
  {
   "cell_type": "code",
   "execution_count": 28,
   "metadata": {
    "colab": {},
    "colab_type": "code",
    "id": "2neh9Wcof8iR"
   },
   "outputs": [],
   "source": [
    "# Validation data\n",
    "nb_validation_samples = int(VALIDATION_SPLIT * data.shape[0])"
   ]
  },
  {
   "cell_type": "code",
   "execution_count": 29,
   "metadata": {
    "colab": {},
    "colab_type": "code",
    "id": "o5u3PTz3gEV-"
   },
   "outputs": [],
   "source": [
    "### for train and validation samples \n",
    "x_train = data[:-nb_validation_samples]\n",
    "x_heading_train = data_heading[:-nb_validation_samples]\n",
    "y_train = labels[:-nb_validation_samples]\n",
    "x_val = data[-nb_validation_samples:]\n",
    "x_heading_val = data_heading[-nb_validation_samples:]\n",
    "y_val = labels[-nb_validation_samples:]"
   ]
  },
  {
   "cell_type": "markdown",
   "metadata": {
    "colab_type": "text",
    "id": "UTyvoHrsgMDw"
   },
   "source": [
    "### Check 5:\n",
    "\n",
    "The shape of x_train, x_val, y_train and y_val should match the below numbers."
   ]
  },
  {
   "cell_type": "code",
   "execution_count": 30,
   "metadata": {
    "colab": {
     "base_uri": "https://localhost:8080/",
     "height": 85
    },
    "colab_type": "code",
    "id": "KLEbiw2Yghe2",
    "outputId": "e2390c42-fcda-4165-ae0e-52bd515d8b1d"
   },
   "outputs": [
    {
     "name": "stdout",
     "output_type": "stream",
     "text": [
      "(39978, 20, 20)\n",
      "(39978, 4)\n",
      "(9994, 20, 20)\n",
      "(9994, 4)\n"
     ]
    }
   ],
   "source": [
    "print(x_train.shape)\n",
    "print(y_train.shape)\n",
    "\n",
    "print(x_val.shape)\n",
    "print(y_val.shape)"
   ]
  },
  {
   "cell_type": "markdown",
   "metadata": {
    "colab_type": "text",
    "id": "yNnoBtArhJ1E"
   },
   "source": [
    "### Create embedding matrix with the glove embeddings\n",
    "\n",
    "\n",
    "Run the below code to create embedding_matrix which has all the words and their glove embedding if present in glove word list."
   ]
  },
  {
   "cell_type": "code",
   "execution_count": 31,
   "metadata": {
    "colab": {
     "base_uri": "https://localhost:8080/",
     "height": 34
    },
    "colab_type": "code",
    "id": "eKqn2IL2ZF8v",
    "outputId": "076e80d8-5a98-434e-eb51-a5f02f532c7c"
   },
   "outputs": [
    {
     "name": "stdout",
     "output_type": "stream",
     "text": [
      "Loaded 400000 word vectors.\n"
     ]
    }
   ],
   "source": [
    "# load the whole embedding into memory\n",
    "embeddings_index = dict()\n",
    "f = open('glove.6B.100d.txt',encoding=\"utf8\")\n",
    "for line in f:\n",
    "    values = line.split()\n",
    "    word = values[0]\n",
    "    coefs = np.asarray(values[1:], dtype='float32')\n",
    "    embeddings_index[word] = coefs\n",
    "f.close()\n",
    "print('Loaded %s word vectors.' % len(embeddings_index))\n",
    "\n",
    "# create a weight matrix for words in training docs\n",
    "embedding_matrix = np.zeros((vocab_size, 100))\n",
    "\n",
    "\n",
    "for word, i in t.word_index.items():\n",
    "    embedding_vector = embeddings_index.get(word)\n",
    "    if embedding_vector is not None:\n",
    "        embedding_matrix[i] = embedding_vector"
   ]
  },
  {
   "cell_type": "markdown",
   "metadata": {
    "colab_type": "text",
    "id": "LRi4o3ZspDFU"
   },
   "source": [
    "# Try the sequential model approach and report the accuracy score. [10 marks]  "
   ]
  },
  {
   "cell_type": "markdown",
   "metadata": {
    "colab_type": "text",
    "id": "zSZDnPWkw2ZZ"
   },
   "source": [
    "### Import layers from Keras to build the model"
   ]
  },
  {
   "cell_type": "code",
   "execution_count": 32,
   "metadata": {
    "colab": {},
    "colab_type": "code",
    "id": "5AgwQsfMrzAQ"
   },
   "outputs": [],
   "source": [
    "from keras.models import Sequential\n",
    "from keras.layers import Dense,LSTM, TimeDistributed, Activation\n",
    "from keras.layers import Flatten, Permute, merge, Input\n",
    "from keras.layers import Embedding\n",
    "from keras.models import Model\n",
    "from keras.layers import Input,Dense,multiply,concatenate,Dropout"
   ]
  },
  {
   "cell_type": "markdown",
   "metadata": {
    "colab_type": "text",
    "id": "gpkVhIbx3gr1"
   },
   "source": [
    "### Model"
   ]
  },
  {
   "cell_type": "code",
   "execution_count": 33,
   "metadata": {
    "colab": {},
    "colab_type": "code",
    "id": "G_8QXh-rmPFq"
   },
   "outputs": [
    {
     "name": "stderr",
     "output_type": "stream",
     "text": [
      "WARNING: Logging before flag parsing goes to stderr.\n",
      "W1207 13:58:56.984269  2036 deprecation_wrapper.py:119] From C:\\Users\\20012\\AppData\\Local\\Continuum\\anaconda3\\lib\\site-packages\\keras\\backend\\tensorflow_backend.py:74: The name tf.get_default_graph is deprecated. Please use tf.compat.v1.get_default_graph instead.\n",
      "\n",
      "W1207 13:58:57.063221  2036 deprecation_wrapper.py:119] From C:\\Users\\20012\\AppData\\Local\\Continuum\\anaconda3\\lib\\site-packages\\keras\\backend\\tensorflow_backend.py:517: The name tf.placeholder is deprecated. Please use tf.compat.v1.placeholder instead.\n",
      "\n",
      "W1207 13:58:57.085209  2036 deprecation_wrapper.py:119] From C:\\Users\\20012\\AppData\\Local\\Continuum\\anaconda3\\lib\\site-packages\\keras\\backend\\tensorflow_backend.py:4138: The name tf.random_uniform is deprecated. Please use tf.random.uniform instead.\n",
      "\n"
     ]
    },
    {
     "name": "stdout",
     "output_type": "stream",
     "text": [
      "Tensor(\"input_1:0\", shape=(?, 20), dtype=int32)\n",
      "Tensor(\"input_2:0\", shape=(?, 20, 20), dtype=int32)\n",
      "Tensor(\"time_distributed_2/Reshape_1:0\", shape=(?, 20, 2000), dtype=float32)\n"
     ]
    },
    {
     "name": "stderr",
     "output_type": "stream",
     "text": [
      "W1207 13:58:58.738262  2036 deprecation_wrapper.py:119] From C:\\Users\\20012\\AppData\\Local\\Continuum\\anaconda3\\lib\\site-packages\\keras\\backend\\tensorflow_backend.py:174: The name tf.get_default_session is deprecated. Please use tf.compat.v1.get_default_session instead.\n",
      "\n",
      "W1207 13:58:58.739261  2036 deprecation_wrapper.py:119] From C:\\Users\\20012\\AppData\\Local\\Continuum\\anaconda3\\lib\\site-packages\\keras\\backend\\tensorflow_backend.py:181: The name tf.ConfigProto is deprecated. Please use tf.compat.v1.ConfigProto instead.\n",
      "\n"
     ]
    }
   ],
   "source": [
    "MAX_SENT_LENGTH = 20\n",
    "MAX_SENTS = 20\n",
    "hidden_size = 100\n",
    "\n",
    "from keras.layers import GRU, Bidirectional\n",
    "\n",
    "sentence_input = Input(shape=(MAX_SENT_LENGTH,),dtype='int32')\n",
    "print(sentence_input)\n",
    "embedded_sequences = Embedding(output_dim = hidden_size, input_dim = vocab_size, input_length = (MAX_SENT_LENGTH,),)(sentence_input)\n",
    "\n",
    "l_LSTM = Bidirectional(LSTM(100,return_sequences = True))(embedded_sequences)\n",
    "l_dense = TimeDistributed(Dense(100))(l_LSTM)\n",
    "l_dense = Flatten()(l_dense)\n",
    "sentEncoder = Model(sentence_input,l_dense)\n",
    "\n",
    "body_input = Input(shape=(MAX_SENTS,MAX_SENT_LENGTH,),dtype = 'int32')\n",
    "print(body_input)\n",
    "body_encoder = TimeDistributed(sentEncoder)(body_input)\n",
    "print(body_encoder)\n",
    "l_LSTM_sent = Bidirectional(LSTM(100,return_sequences=True))(body_encoder)\n",
    "l_dense_sent = TimeDistributed(Dense(100))(l_LSTM_sent)\n",
    "l_dense_sent = Flatten()(l_dense_sent)\n",
    "\n",
    "heading_input = Input(shape = (MAX_SENTS_HEADING, MAX_SENT_LENGTH),dtype = 'int32')\n",
    "heading_embedded_sequences = Embedding(output_dim=hidden_size, input_dim=vocab_size, \\\n",
    "                                       input_length = (MAX_SENTS_HEADING,MAX_SENT_LENGTH,), \\\n",
    "                                      weights = [embedding_matrix])(heading_input)\n",
    "h_dense = Dense(100,activation='relu')(heading_embedded_sequences)\n",
    "h_flatten = Flatten()(h_dense)\n",
    "article_output = concatenate([l_dense_sent,h_flatten],name = 'concatenate_heading')\n",
    "\n",
    "news_vestor = Dense(100,activation = 'relu')(article_output)\n",
    "preds = Dense(4,activation = 'softmax')(news_vestor)\n",
    "model = Model([body_input,heading_input],[preds])\n",
    "\n",
    "                   "
   ]
  },
  {
   "cell_type": "markdown",
   "metadata": {
    "colab_type": "text",
    "id": "C5Xrd-JQ3id7"
   },
   "source": [
    "### Compile and fit the model"
   ]
  },
  {
   "cell_type": "markdown",
   "metadata": {
    "colab": {},
    "colab_type": "code",
    "id": "MlduHU2CovxC"
   },
   "source": []
  },
  {
   "cell_type": "code",
   "execution_count": 34,
   "metadata": {
    "colab": {},
    "colab_type": "code",
    "id": "CM3yCmjQoCM3"
   },
   "outputs": [
    {
     "name": "stderr",
     "output_type": "stream",
     "text": [
      "W1207 13:58:59.263803  2036 deprecation_wrapper.py:119] From C:\\Users\\20012\\AppData\\Local\\Continuum\\anaconda3\\lib\\site-packages\\keras\\optimizers.py:790: The name tf.train.Optimizer is deprecated. Please use tf.compat.v1.train.Optimizer instead.\n",
      "\n",
      "W1207 13:58:59.464965  2036 deprecation.py:323] From C:\\Users\\20012\\AppData\\Local\\Continuum\\anaconda3\\lib\\site-packages\\tensorflow\\python\\ops\\math_grad.py:1250: add_dispatch_support.<locals>.wrapper (from tensorflow.python.ops.array_ops) is deprecated and will be removed in a future version.\n",
      "Instructions for updating:\n",
      "Use tf.where in 2.0, which has the same broadcast rule as np.where\n"
     ]
    },
    {
     "name": "stdout",
     "output_type": "stream",
     "text": [
      "model fitting = Hierarchical LSTM network\n",
      "Train on 39978 samples, validate on 9994 samples\n",
      "Epoch 1/10\n",
      "39978/39978 [==============================] - 1304s 33ms/step - loss: 0.5810 - acc: 0.7898 - val_loss: 0.4254 - val_acc: 0.8393\n",
      "Epoch 2/10\n",
      "39978/39978 [==============================] - 1264s 32ms/step - loss: 0.3352 - acc: 0.8743 - val_loss: 0.3160 - val_acc: 0.8793\n",
      "Epoch 3/10\n",
      "39978/39978 [==============================] - 1273s 32ms/step - loss: 0.2381 - acc: 0.9092 - val_loss: 0.2893 - val_acc: 0.8905\n",
      "Epoch 4/10\n",
      "39978/39978 [==============================] - 1269s 32ms/step - loss: 0.1797 - acc: 0.9326 - val_loss: 0.2446 - val_acc: 0.9193\n",
      "Epoch 5/10\n",
      "39978/39978 [==============================] - 1269s 32ms/step - loss: 0.1426 - acc: 0.9487 - val_loss: 0.2671 - val_acc: 0.9143\n",
      "Epoch 6/10\n",
      "39978/39978 [==============================] - 1258s 31ms/step - loss: 0.1160 - acc: 0.9585 - val_loss: 0.3399 - val_acc: 0.8936\n",
      "Epoch 7/10\n",
      "39978/39978 [==============================] - 1307s 33ms/step - loss: 0.0989 - acc: 0.9647 - val_loss: 0.2180 - val_acc: 0.9348\n",
      "Epoch 8/10\n",
      "39978/39978 [==============================] - 1260s 32ms/step - loss: 0.0851 - acc: 0.9709 - val_loss: 0.2917 - val_acc: 0.9257\n",
      "Epoch 9/10\n",
      "39978/39978 [==============================] - 1247s 31ms/step - loss: 0.0767 - acc: 0.9738 - val_loss: 0.2324 - val_acc: 0.9341\n",
      "Epoch 10/10\n",
      "39978/39978 [==============================] - 1229s 31ms/step - loss: 0.0662 - acc: 0.9777 - val_loss: 0.2552 - val_acc: 0.9406\n"
     ]
    },
    {
     "data": {
      "text/plain": [
       "<keras.callbacks.History at 0x17b0b237518>"
      ]
     },
     "execution_count": 34,
     "metadata": {},
     "output_type": "execute_result"
    }
   ],
   "source": [
    "model.compile(loss='categorical_crossentropy',optimizer='rmsprop',metrics = ['acc'])\n",
    "print(\"model fitting = Hierarchical LSTM network\")\n",
    "model.fit([x_train,x_heading_train],[y_train],validation_data = ([x_val,x_heading_val],[y_val]),epochs = 10 , batch_size=50)"
   ]
  },
  {
   "cell_type": "markdown",
   "metadata": {},
   "source": [
    "#### We could see the accuracy of 97%, with validation accuracy of 92%. This could be improved by increasing the epoch or batch size."
   ]
  },
  {
   "cell_type": "markdown",
   "metadata": {
    "colab_type": "text",
    "id": "R47A6Ysfev3l"
   },
   "source": [
    "## Build the same model with attention layers included for better performance (Optional)"
   ]
  },
  {
   "cell_type": "code",
   "execution_count": 50,
   "metadata": {},
   "outputs": [],
   "source": [
    "EMBEDDING_DIM = 100\n",
    "word_index = t.word_index\n",
    "\n",
    "# building Hierachical Attention network\n",
    "embedding_matrix = np.random.random((len(word_index) + 1, EMBEDDING_DIM))\n",
    "for word, i in word_index.items():\n",
    "    embedding_vector = embeddings_index.get(word)\n",
    "    if embedding_vector is not None:\n",
    "        # words not found in embedding index will be all-zeros.\n",
    "        embedding_matrix[i] = embedding_vector\n",
    "\n",
    "embedding_layer = Embedding(len(word_index) + 1,\n",
    "                            EMBEDDING_DIM,\n",
    "                            weights=[embedding_matrix],\n",
    "                            input_length=MAX_SENT_LENGTH,\n",
    "                            trainable=True,\n",
    "                            mask_zero=True)"
   ]
  },
  {
   "cell_type": "markdown",
   "metadata": {
    "colab_type": "text",
    "id": "olqo5ytRe7eq"
   },
   "source": [
    "## Fit the model and report the accuracy score for the model with attention layer (Optional)"
   ]
  },
  {
   "cell_type": "code",
   "execution_count": 55,
   "metadata": {
    "colab": {},
    "colab_type": "code",
    "id": "ZQ3TWuiAe1Uu"
   },
   "outputs": [
    {
     "name": "stdout",
     "output_type": "stream",
     "text": [
      "model fitting - Hierachical attention network\n"
     ]
    },
    {
     "name": "stderr",
     "output_type": "stream",
     "text": [
      "C:\\Users\\20012\\AppData\\Local\\Continuum\\anaconda3\\lib\\site-packages\\ipykernel_launcher.py:61: UserWarning: The `nb_epoch` argument in `fit` has been renamed `epochs`.\n"
     ]
    },
    {
     "name": "stdout",
     "output_type": "stream",
     "text": [
      "Train on 39978 samples, validate on 9994 samples\n",
      "Epoch 1/10\n",
      "39978/39978 [==============================] - 969s 24ms/step - loss: 0.6739 - acc: 0.7539 - val_loss: 0.6012 - val_acc: 0.7690\n",
      "Epoch 2/10\n",
      "39978/39978 [==============================] - 973s 24ms/step - loss: 0.5594 - acc: 0.7947 - val_loss: 0.5433 - val_acc: 0.7996\n",
      "Epoch 3/10\n",
      "39978/39978 [==============================] - 972s 24ms/step - loss: 0.5278 - acc: 0.8086 - val_loss: 0.5453 - val_acc: 0.8020\n",
      "Epoch 4/10\n",
      "39978/39978 [==============================] - 982s 25ms/step - loss: 0.5132 - acc: 0.8138 - val_loss: 0.5334 - val_acc: 0.8049\n",
      "Epoch 5/10\n",
      "39978/39978 [==============================] - 973s 24ms/step - loss: 0.5022 - acc: 0.8164 - val_loss: 0.5361 - val_acc: 0.8101\n",
      "Epoch 6/10\n",
      "39978/39978 [==============================] - 986s 25ms/step - loss: 0.4970 - acc: 0.8171 - val_loss: 0.5159 - val_acc: 0.8105\n",
      "Epoch 7/10\n",
      "39978/39978 [==============================] - 978s 24ms/step - loss: 0.4914 - acc: 0.8194 - val_loss: 0.5114 - val_acc: 0.8126\n",
      "Epoch 8/10\n",
      "39978/39978 [==============================] - 974s 24ms/step - loss: 0.4871 - acc: 0.8188 - val_loss: 0.5123 - val_acc: 0.8133\n",
      "Epoch 9/10\n",
      "39978/39978 [==============================] - 974s 24ms/step - loss: 0.4858 - acc: 0.8190 - val_loss: 0.5128 - val_acc: 0.8130\n",
      "Epoch 10/10\n",
      "39978/39978 [==============================] - 970s 24ms/step - loss: 0.4828 - acc: 0.8202 - val_loss: 0.5034 - val_acc: 0.8137\n"
     ]
    },
    {
     "data": {
      "text/plain": [
       "<keras.callbacks.History at 0x17b70d8a400>"
      ]
     },
     "execution_count": 55,
     "metadata": {},
     "output_type": "execute_result"
    }
   ],
   "source": [
    "class AttLayer(Layer):\n",
    "    def __init__(self, attention_dim):\n",
    "        self.init = initializers.get('normal')\n",
    "        self.supports_masking = True\n",
    "        self.attention_dim = attention_dim\n",
    "        super(AttLayer, self).__init__()\n",
    "\n",
    "    def build(self, input_shape):\n",
    "        assert len(input_shape) == 3\n",
    "        self.W = K.variable(self.init((input_shape[-1], self.attention_dim)), name='W')\n",
    "        self.b = K.variable(self.init((self.attention_dim, )), name='b')\n",
    "        self.u = K.variable(self.init((self.attention_dim, 1)), name='u')\n",
    "        self.trainable_weights = [self.W, self.b, self.u]\n",
    "        super(AttLayer, self).build(input_shape)\n",
    "\n",
    "    def compute_mask(self, inputs, mask=None):\n",
    "        return mask\n",
    "\n",
    "    def call(self, x, mask=None):\n",
    "        # size of x :[batch_size, sel_len, attention_dim]\n",
    "        # size of u :[batch_size, attention_dim]\n",
    "        # uit = tanh(xW+b)\n",
    "        uit = K.tanh(K.bias_add(K.dot(x, self.W), self.b))\n",
    "        ait = K.dot(uit, self.u)\n",
    "        ait = K.squeeze(ait, -1)\n",
    "\n",
    "        ait = K.exp(ait)\n",
    "\n",
    "        if mask is not None:\n",
    "            # Cast the mask to floatX to avoid float64 upcasting in theano\n",
    "            ait *= K.cast(mask, K.floatx())\n",
    "        ait /= K.cast(K.sum(ait, axis=1, keepdims=True) + K.epsilon(), K.floatx())\n",
    "        ait = K.expand_dims(ait)\n",
    "        weighted_input = x * ait\n",
    "        output = K.sum(weighted_input, axis=1)\n",
    "\n",
    "        return output\n",
    "\n",
    "    def compute_output_shape(self, input_shape):\n",
    "        return (input_shape[0], input_shape[-1])\n",
    "\n",
    "\n",
    "sentence_input = Input(shape=(MAX_SENT_LENGTH,), dtype='int32')\n",
    "embedded_sequences = Embedding(output_dim = hidden_size, input_dim = vocab_size, input_length = (MAX_SENT_LENGTH,),)(sentence_input)\n",
    "\n",
    "#embedded_sequences = embedding_layer(sentence_input)\n",
    "l_lstm = Bidirectional(GRU(100, return_sequences=True))(embedded_sequences)\n",
    "l_att = AttLayer(100)(l_lstm)\n",
    "sentEncoder = Model(sentence_input, l_att)\n",
    "\n",
    "review_input = Input(shape=(MAX_SENTS, MAX_SENT_LENGTH), dtype='int32')\n",
    "review_encoder = TimeDistributed(sentEncoder)(review_input)\n",
    "l_lstm_sent = Bidirectional(GRU(100, return_sequences=True))(review_encoder)\n",
    "l_att_sent = AttLayer(100)(l_lstm_sent)\n",
    "preds = Dense(4, activation='softmax')(l_att_sent)\n",
    "model = Model(review_input, preds)\n",
    "\n",
    "model.compile(loss='categorical_crossentropy',optimizer='rmsprop',metrics=['acc'])\n",
    "\n",
    "print(\"model fitting - Hierachical attention network\")\n",
    "model.fit(x_train, y_train, validation_data=(x_val, y_val),nb_epoch=10, batch_size=50)"
   ]
  },
  {
   "cell_type": "code",
   "execution_count": null,
   "metadata": {
    "colab": {},
    "colab_type": "code",
    "id": "wivJ-eVkfEOm"
   },
   "outputs": [],
   "source": []
  },
  {
   "cell_type": "code",
   "execution_count": null,
   "metadata": {
    "colab": {},
    "colab_type": "code",
    "id": "z8507P94fDuX"
   },
   "outputs": [],
   "source": []
  }
 ],
 "metadata": {
  "accelerator": "GPU",
  "colab": {
   "collapsed_sections": [],
   "name": "Stance_Detection_for_the_Fake_News_Challenge_Questions.ipynb",
   "provenance": []
  },
  "kernelspec": {
   "display_name": "Python 3",
   "language": "python",
   "name": "python3"
  },
  "language_info": {
   "codemirror_mode": {
    "name": "ipython",
    "version": 3
   },
   "file_extension": ".py",
   "mimetype": "text/x-python",
   "name": "python",
   "nbconvert_exporter": "python",
   "pygments_lexer": "ipython3",
   "version": "3.7.3"
  }
 },
 "nbformat": 4,
 "nbformat_minor": 1
}
